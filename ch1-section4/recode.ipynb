{
 "cells": [
  {
   "cell_type": "code",
   "execution_count": 2,
   "metadata": {},
   "outputs": [],
   "source": [
    "import numpy as np\n",
    "from sklearn.datasets import load_boston\n",
    "from sklearn.utils import shuffle , resample"
   ]
  },
  {
   "cell_type": "code",
   "execution_count": 98,
   "metadata": {},
   "outputs": [],
   "source": [
    "class Node:\n",
    "    def __init__(self, inputs=[]):\n",
    "        self.inputs = inputs\n",
    "        self.outputs = []\n",
    "        # 建立输入节点与输出节点之间的连接\n",
    "        for n in self.inputs:\n",
    "            n.outputs.append(self)\n",
    "\n",
    "        self.value = None\n",
    "\n",
    "        self.gradients = {}\n",
    "        \n",
    "\n",
    "    def forward(self):\n",
    "        raise NotImplemented\n",
    "    \n",
    "    def backward(self):\n",
    "        raise NotImplemented"
   ]
  },
  {
   "cell_type": "code",
   "execution_count": 99,
   "metadata": {},
   "outputs": [],
   "source": [
    "# 输入节点类\n",
    "class Input(Node):\n",
    "    def __init__(self):\n",
    "        Node.__init__(self)\n",
    "\n",
    "    def forward(self, value=None):\n",
    "        # 如果有输入值，则输入节点接收该值作为它自身的属性\n",
    "        if value is not None:\n",
    "            self.value = value\n",
    "        \n",
    "    def backward(self):\n",
    "        self.gradients = {self:0} \n",
    "        for n in self.outputs:\n",
    "            grad_cost = n.gradients[self]\n",
    "            self.gradients[self] = grad_cost * 1"
   ]
  },
  {
   "cell_type": "code",
   "execution_count": 100,
   "metadata": {},
   "outputs": [],
   "source": [
    "class Add(Node):\n",
    "    def __init__(self, *nodes):\n",
    "        Node.__init__(self, nodes)\n",
    "\n",
    "    def forward(self):\n",
    "        self.value = sum(map(lambda n: n.value, self.inputs))"
   ]
  },
  {
   "cell_type": "code",
   "execution_count": 101,
   "metadata": {},
   "outputs": [],
   "source": [
    "# 隐藏层线性组合类\n",
    "class Linear(Node):\n",
    "    def __init__(self, nodes, weights, bias):\n",
    "        Node.__init__(self, [nodes, weights, bias])\n",
    "\n",
    "    def forward(self):\n",
    "        inputs = self.inputs[0].value\n",
    "        weights = self.inputs[1].value\n",
    "        bias = self.inputs[2].value\n",
    "\n",
    "        self.value = np.dot(inputs, weights) + bias\n",
    "        \n",
    "    def backward(self):\n",
    "\n",
    "        self.gradients = {n: np.zeros_like(n.value) for n in self.inputs}\n",
    "\n",
    "        for n in self.outputs:\n",
    "            grad_cost = n.gradients[self]\n",
    "\n",
    "            self.gradients[self.inputs[0]] = np.dot(grad_cost, self.inputs[1].value.T)\n",
    "            self.gradients[self.inputs[1]] = np.dot(self.inputs[0].value.T, grad_cost)\n",
    "            self.gradients[self.inputs[2]] = np.sum(grad_cost, axis=0, keepdims=False)"
   ]
  },
  {
   "cell_type": "code",
   "execution_count": 102,
   "metadata": {},
   "outputs": [],
   "source": [
    "class Sigmoid(Node):\n",
    "    def __init__(self, node):\n",
    "        Node.__init__(self, [node])\n",
    "\n",
    "\n",
    "    def _sigmoid(self, x):\n",
    "        return 1./(1 + np.exp(-1 * x))\n",
    "\n",
    "    def forward(self):\n",
    "        self.x = self.inputs[0].value   \n",
    "        self.value = self._sigmoid(self.x)\n",
    "\n",
    "    def backward(self):\n",
    "        self.partial = self._sigmoid(self.x) * (1 - self._sigmoid(self.x))\n",
    "        \n",
    "        \n",
    "        self.gradients = {n: np.zeros_like(n.value) for n in self.inputs}\n",
    "\n",
    "        for n in self.outputs:\n",
    "            grad_cost = n.gradients[self]  \n",
    "\n",
    "            self.gradients[self.inputs[0]] = grad_cost * self.partial"
   ]
  },
  {
   "cell_type": "code",
   "execution_count": 103,
   "metadata": {},
   "outputs": [],
   "source": [
    "class MSE(Node):\n",
    "    def __init__(self, y, a):\n",
    "        Node.__init__(self, [y, a])\n",
    "\n",
    "\n",
    "    def forward(self):\n",
    "        y = self.inputs[0].value.reshape(-1, 1)\n",
    "        a = self.inputs[1].value.reshape(-1, 1)\n",
    "        assert(y.shape == a.shape)\n",
    "\n",
    "        self.m = self.inputs[0].value.shape[0]\n",
    "        self.diff = y - a\n",
    "\n",
    "        self.value = np.mean(self.diff**2)\n",
    "\n",
    "\n",
    "    def backward(self):\n",
    "        self.gradients[self.inputs[0]] = (2 / self.m) * self.diff\n",
    "        self.gradients[self.inputs[1]] = (-2 / self.m) * self.diff"
   ]
  },
  {
   "cell_type": "code",
   "execution_count": 104,
   "metadata": {},
   "outputs": [],
   "source": [
    "def forward_and_backward(outputnode, graph):\n",
    "   \n",
    "    for n in graph:\n",
    "        n.forward()\n",
    "\n",
    "    for n in  graph[::-1]:\n",
    "        n.backward()"
   ]
  },
  {
   "cell_type": "code",
   "execution_count": 105,
   "metadata": {},
   "outputs": [],
   "source": [
    "# 拓扑排序\n",
    "def topological_sort(feed_dict):\n",
    "\n",
    "    input_nodes = [n for n in feed_dict.keys()]\n",
    "\n",
    "    G = {}\n",
    "    nodes = [n for n in input_nodes]\n",
    "    while len(nodes) > 0:\n",
    "        n = nodes.pop(0)\n",
    "        if n not in G:\n",
    "            G[n] = {'in': set(), 'out': set()}\n",
    "        for m in n.outputs:\n",
    "            if m not in G:\n",
    "                G[m] = {'in': set(), 'out': set()}\n",
    "            G[n]['out'].add(m)\n",
    "            G[m]['in'].add(n)\n",
    "            nodes.append(m)\n",
    "\n",
    "    L = []\n",
    "    S = set(input_nodes)\n",
    "    while len(S) > 0:\n",
    "        n = S.pop()\n",
    "\n",
    "        if isinstance(n, Input):\n",
    "            n.value = feed_dict[n]\n",
    "\n",
    "\n",
    "        L.append(n)\n",
    "        for m in n.outputs:\n",
    "            G[n]['out'].remove(m)\n",
    "            G[m]['in'].remove(n)\n",
    "\n",
    "            if len(G[m]['in']) == 0:\n",
    "                S.add(m)\n",
    "    return L"
   ]
  },
  {
   "cell_type": "code",
   "execution_count": 106,
   "metadata": {},
   "outputs": [],
   "source": [
    "def sgd_update(trainables, learning_rate=1e-2):\n",
    "\n",
    "    for t in trainables:\n",
    "        t.value += -1 * learning_rate * t.gradients[t]"
   ]
  },
  {
   "cell_type": "code",
   "execution_count": 16,
   "metadata": {},
   "outputs": [],
   "source": [
    "data = load_boston()"
   ]
  },
  {
   "cell_type": "code",
   "execution_count": 17,
   "metadata": {},
   "outputs": [],
   "source": [
    "X_ , y_ = data['data'],data['target']"
   ]
  },
  {
   "cell_type": "code",
   "execution_count": 109,
   "metadata": {},
   "outputs": [
    {
     "name": "stdout",
     "output_type": "stream",
     "text": [
      "(506, 13)\n",
      "(506,)\n"
     ]
    }
   ],
   "source": [
    "print(X_.shape)\n",
    "print(y_.shape)"
   ]
  },
  {
   "cell_type": "code",
   "execution_count": 110,
   "metadata": {},
   "outputs": [],
   "source": [
    "losses = []"
   ]
  },
  {
   "cell_type": "code",
   "execution_count": 18,
   "metadata": {},
   "outputs": [],
   "source": [
    "X_ = (X_ - np.mean(X_ , axis = 0)) / np.std(X_ , axis = 0)"
   ]
  },
  {
   "cell_type": "code",
   "execution_count": 112,
   "metadata": {},
   "outputs": [],
   "source": [
    "# 接下来需要对神经网络的参数进行初始化 神经网络的参数初始化一般不为0\n",
    "# 因为当参数初始化为0时会使得L1层隐藏单元完全对称也就是都是相同地  这样是没有意义地\n",
    "# 故神经网络在参数初始化时一般随机选择一组具有高斯正态分布的数据\n",
    "n_features = X_.shape[1]\n",
    "n_hidden = 10\n",
    "W1_ = np.random.randn(n_features,n_hidden)  # (13,10)\n",
    "b1_ = np.random.randn(n_hidden)             # (10,)\n",
    "W2_ = np.random.randn(n_hidden,1)           # (10,1)\n",
    "b2_ = np.zeros(1)                           # (1,)"
   ]
  },
  {
   "cell_type": "code",
   "execution_count": 113,
   "metadata": {},
   "outputs": [],
   "source": [
    "# 实例化输入节点作为Input类的对象\n",
    "X  , y  = Input() , Input()\n",
    "W1 , b1 = Input() , Input()\n",
    "W2 , b2 = Input() , Input()"
   ]
  },
  {
   "cell_type": "code",
   "execution_count": 114,
   "metadata": {},
   "outputs": [],
   "source": [
    "l1 = Linear(X, W1, b1) # 实例化Linear类并传入X,W1,b1三个对象 \n",
    "s1 = Sigmoid(l1) \n",
    "l2 = Linear(s1,W2,b2)\n",
    "cost = MSE(y, l2)"
   ]
  },
  {
   "cell_type": "code",
   "execution_count": 115,
   "metadata": {},
   "outputs": [],
   "source": [
    "feed_dict = {\n",
    "    X: X_,\n",
    "    y: y_,\n",
    "    W1: W1_,\n",
    "    b1: b1_,\n",
    "    W2: W2_,\n",
    "    b2: b2_\n",
    "}"
   ]
  },
  {
   "cell_type": "code",
   "execution_count": 116,
   "metadata": {},
   "outputs": [
    {
     "name": "stdout",
     "output_type": "stream",
     "text": [
      "{'inputs': [], 'outputs': [<__main__.Linear object at 0x1a3d455898>], 'value': None, 'gradients': {}}\n",
      "{'inputs': [], 'outputs': [<__main__.MSE object at 0x1a3d455908>], 'value': None, 'gradients': {}}\n",
      "{'inputs': [], 'outputs': [<__main__.Linear object at 0x1a3d455898>], 'value': None, 'gradients': {}}\n",
      "{'inputs': [], 'outputs': [<__main__.Linear object at 0x1a3d455898>], 'value': None, 'gradients': {}}\n",
      "{'inputs': [], 'outputs': [<__main__.Linear object at 0x1a3d4555f8>], 'value': None, 'gradients': {}}\n",
      "{'inputs': [], 'outputs': [<__main__.Linear object at 0x1a3d4555f8>], 'value': None, 'gradients': {}}\n"
     ]
    }
   ],
   "source": [
    "print(X.__dict__)\n",
    "print(y.__dict__)\n",
    "print(W1.__dict__)\n",
    "print(b1.__dict__)\n",
    "print(W2.__dict__)\n",
    "print(b2.__dict__)"
   ]
  },
  {
   "cell_type": "code",
   "execution_count": 117,
   "metadata": {},
   "outputs": [],
   "source": [
    "epochs = 5000\n",
    "# Total number of examples\n",
    "m = X_.shape[0]\n",
    "batch_size = 16\n",
    "steps_per_epoch = m // batch_size"
   ]
  },
  {
   "cell_type": "code",
   "execution_count": 118,
   "metadata": {},
   "outputs": [
    {
     "name": "stdout",
     "output_type": "stream",
     "text": [
      "31\n"
     ]
    }
   ],
   "source": [
    "print(steps_per_epoch)"
   ]
  },
  {
   "cell_type": "code",
   "execution_count": 119,
   "metadata": {},
   "outputs": [],
   "source": [
    "graph = topological_sort(feed_dict)\n",
    "trainables = [W1, b1, W2, b2]"
   ]
  },
  {
   "cell_type": "code",
   "execution_count": 120,
   "metadata": {},
   "outputs": [
    {
     "name": "stdout",
     "output_type": "stream",
     "text": [
      "Total number of examples = 506\n"
     ]
    }
   ],
   "source": [
    "print(\"Total number of examples = {}\".format(m))"
   ]
  },
  {
   "cell_type": "code",
   "execution_count": 121,
   "metadata": {},
   "outputs": [
    {
     "name": "stdout",
     "output_type": "stream",
     "text": [
      "[<__main__.Input object at 0x1a3d3df828>, <__main__.Input object at 0x1a3d450a58>, <__main__.Input object at 0x1a3d3df860>, <__main__.Input object at 0x1a3d3df278>, <__main__.Input object at 0x1a3d3ed898>, <__main__.Input object at 0x1a3d450898>, <__main__.Linear object at 0x1a3d455898>, <__main__.Sigmoid object at 0x1a3d455780>, <__main__.Linear object at 0x1a3d4555f8>, <__main__.MSE object at 0x1a3d455908>]\n"
     ]
    }
   ],
   "source": [
    "print(graph)"
   ]
  },
  {
   "cell_type": "code",
   "execution_count": 122,
   "metadata": {},
   "outputs": [],
   "source": [
    "def forward(outputNode,graph):\n",
    "    for n in graph:\n",
    "        n.forward()\n",
    "    return outputNode.value"
   ]
  },
  {
   "cell_type": "code",
   "execution_count": 123,
   "metadata": {
    "collapsed": true
   },
   "outputs": [
    {
     "name": "stdout",
     "output_type": "stream",
     "text": [
      "Epoch: 1, Loss: 146.389\n",
      "Epoch: 101, Loss: 5.867\n",
      "Epoch: 201, Loss: 5.394\n",
      "Epoch: 301, Loss: 3.376\n",
      "Epoch: 401, Loss: 3.257\n",
      "Epoch: 501, Loss: 3.464\n",
      "Epoch: 601, Loss: 3.717\n",
      "Epoch: 701, Loss: 3.004\n",
      "Epoch: 801, Loss: 3.244\n",
      "Epoch: 901, Loss: 3.274\n",
      "Epoch: 1001, Loss: 3.432\n",
      "Epoch: 1101, Loss: 3.203\n",
      "Epoch: 1201, Loss: 2.895\n",
      "Epoch: 1301, Loss: 3.258\n",
      "Epoch: 1401, Loss: 2.802\n",
      "Epoch: 1501, Loss: 3.314\n",
      "Epoch: 1601, Loss: 3.154\n",
      "Epoch: 1701, Loss: 2.945\n",
      "Epoch: 1801, Loss: 3.167\n",
      "Epoch: 1901, Loss: 2.818\n",
      "Epoch: 2001, Loss: 2.670\n",
      "Epoch: 2101, Loss: 2.507\n",
      "Epoch: 2201, Loss: 2.563\n",
      "Epoch: 2301, Loss: 2.390\n",
      "Epoch: 2401, Loss: 2.482\n",
      "Epoch: 2501, Loss: 2.634\n",
      "Epoch: 2601, Loss: 2.793\n",
      "Epoch: 2701, Loss: 2.711\n",
      "Epoch: 2801, Loss: 2.481\n",
      "Epoch: 2901, Loss: 2.732\n",
      "Epoch: 3001, Loss: 2.963\n",
      "Epoch: 3101, Loss: 2.519\n",
      "Epoch: 3201, Loss: 2.443\n",
      "Epoch: 3301, Loss: 2.491\n",
      "Epoch: 3401, Loss: 2.622\n",
      "Epoch: 3501, Loss: 2.628\n",
      "Epoch: 3601, Loss: 2.453\n",
      "Epoch: 3701, Loss: 2.921\n",
      "Epoch: 3801, Loss: 2.703\n",
      "Epoch: 3901, Loss: 2.912\n",
      "Epoch: 4001, Loss: 2.578\n",
      "Epoch: 4101, Loss: 2.501\n",
      "Epoch: 4201, Loss: 2.557\n",
      "Epoch: 4301, Loss: 2.334\n",
      "Epoch: 4401, Loss: 2.398\n",
      "Epoch: 4501, Loss: 2.378\n",
      "Epoch: 4601, Loss: 2.954\n",
      "Epoch: 4701, Loss: 2.324\n",
      "Epoch: 4801, Loss: 2.432\n",
      "Epoch: 4901, Loss: 2.593\n"
     ]
    }
   ],
   "source": [
    "# Step 4\n",
    "for i in range(epochs):\n",
    "    loss = 0\n",
    "    for j in range(steps_per_epoch):\n",
    "        # Step 1\n",
    "        # Randomly sample a batch of examples\n",
    "        X_batch, y_batch = resample(X_, y_, n_samples=batch_size)\n",
    "\n",
    "        # Reset value of X and y Inputs\n",
    "        X.value = X_batch\n",
    "        y.value = y_batch\n",
    "\n",
    "        # Step 2\n",
    "        _ = None\n",
    "        forward_and_backward(_, graph) # set output node not important.\n",
    "\n",
    "        # Step 3\n",
    "        rate = 0.01\n",
    "    \n",
    "        sgd_update(trainables, rate)\n",
    "\n",
    "        loss += graph[-1].value\n",
    "    \n",
    "    if i % 100 == 0: \n",
    "        print(\"Epoch: {}, Loss: {:.3f}\".format(i+1, loss/steps_per_epoch))\n",
    "        losses.append(loss)"
   ]
  },
  {
   "cell_type": "code",
   "execution_count": 125,
   "metadata": {},
   "outputs": [],
   "source": [
    "import matplotlib.pyplot as plt"
   ]
  },
  {
   "cell_type": "code",
   "execution_count": 126,
   "metadata": {},
   "outputs": [
    {
     "data": {
      "text/plain": [
       "[<matplotlib.lines.Line2D at 0x1a3d5605f8>]"
      ]
     },
     "execution_count": 126,
     "metadata": {},
     "output_type": "execute_result"
    },
    {
     "data": {
      "image/png": "[encoded data removed]",
      "text/plain": [
       "<Figure size 432x288 with 1 Axes>"
      ]
     },
     "metadata": {
      "needs_background": "light"
     },
     "output_type": "display_data"
    }
   ],
   "source": [
    "plt.plot(range(len(losses)),losses)"
   ]
  },
  {
   "cell_type": "code",
   "execution_count": 7,
   "metadata": {},
   "outputs": [
    {
     "name": "stderr",
     "output_type": "stream",
     "text": [
      "Using TensorFlow backend.\n"
     ]
    }
   ],
   "source": [
    "import keras"
   ]
  },
  {
   "cell_type": "code",
   "execution_count": 8,
   "metadata": {},
   "outputs": [],
   "source": [
    "from keras.layers import Dense\n",
    "from keras.models import Sequential"
   ]
  },
  {
   "cell_type": "code",
   "execution_count": 11,
   "metadata": {},
   "outputs": [],
   "source": [
    "model = Sequential()\n",
    "\n",
    "model.add(Dense(units=64,activation='sigmoid',input_dim=13))\n",
    "model.add(Dense(units=30,activation='sigmoid',input_dim=64))\n",
    "model.add(Dense(units=1))\n",
    "\n",
    "model.compile(loss='mse',\n",
    "              optimizer='sgd',\n",
    "              metrics=['mse'])"
   ]
  },
  {
   "cell_type": "code",
   "execution_count": null,
   "metadata": {},
   "outputs": [
    {
     "name": "stdout",
     "output_type": "stream",
     "text": [
      "Epoch 1/2000\n",
      "506/506 [==============================] - 0s 360us/step - loss: 156.9517 - mse: 156.9517\n",
      "Epoch 2/2000\n",
      "506/506 [==============================] - 0s 138us/step - loss: 68.5101 - mse: 68.5101\n",
      "Epoch 3/2000\n",
      "506/506 [==============================] - 0s 104us/step - loss: 49.8530 - mse: 49.8530\n",
      "Epoch 4/2000\n",
      "506/506 [==============================] - 0s 79us/step - loss: 37.7258 - mse: 37.7258\n",
      "Epoch 5/2000\n",
      "506/506 [==============================] - 0s 72us/step - loss: 30.7509 - mse: 30.7509\n",
      "Epoch 6/2000\n",
      "506/506 [==============================] - 0s 167us/step - loss: 26.1035 - mse: 26.1035\n"
     ]
    }
   ],
   "source": [
    "model.fit(X_, y_, epochs=2000, batch_size=32)"
   ]
  },
  {
   "cell_type": "code",
   "execution_count": null,
   "metadata": {},
   "outputs": [],
   "source": []
  }
 ],
 "metadata": {
  "kernelspec": {
   "display_name": "Python 3",
   "language": "python",
   "name": "python3"
  },
  "language_info": {
   "codemirror_mode": {
    "name": "ipython",
    "version": 3
   },
   "file_extension": ".py",
   "mimetype": "text/x-python",
   "name": "python",
   "nbconvert_exporter": "python",
   "pygments_lexer": "ipython3",
   "version": "3.7.4"
  }
 },
 "nbformat": 4,
 "nbformat_minor": 2
}
